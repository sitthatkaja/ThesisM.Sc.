{
  "nbformat": 4,
  "nbformat_minor": 0,
  "metadata": {
    "colab": {
      "provenance": [],
      "authorship_tag": "ABX9TyPmGdlj4RmYfFqMgVPNGzEY",
      "include_colab_link": true
    },
    "kernelspec": {
      "name": "python3",
      "display_name": "Python 3"
    },
    "language_info": {
      "name": "python"
    }
  },
  "cells": [
    {
      "cell_type": "markdown",
      "metadata": {
        "id": "view-in-github",
        "colab_type": "text"
      },
      "source": [
        "<a href=\"https://colab.research.google.com/github/sitthatkaja/ThesisM.Sc./blob/main/Manual_Frame_by_Frame(odd_even).ipynb\" target=\"_parent\"><img src=\"https://colab.research.google.com/assets/colab-badge.svg\" alt=\"Open In Colab\"/></a>"
      ]
    },
    {
      "cell_type": "code",
      "execution_count": 1,
      "metadata": {
        "id": "WwuK1yDg_gxD"
      },
      "outputs": [],
      "source": [
        "import pandas as pd\n",
        "import numpy as np"
      ]
    },
    {
      "cell_type": "code",
      "source": [
        "from google.colab import drive\n",
        "drive.mount('/content/drive')"
      ],
      "metadata": {
        "colab": {
          "base_uri": "https://localhost:8080/"
        },
        "id": "dP1shlCO_rly",
        "outputId": "36a2b434-c1a8-4fac-de57-889ae3b52bb2"
      },
      "execution_count": 2,
      "outputs": [
        {
          "output_type": "stream",
          "name": "stdout",
          "text": [
            "Mounted at /content/drive\n"
          ]
        }
      ]
    },
    {
      "cell_type": "code",
      "source": [
        "df1 = pd.read_csv('/content/drive/My Drive/MSC_project/NS_1.csv')\n",
        "df1 = df1.iloc[:,5:]\n",
        "df1_odd = df1.iloc[1::2]\n",
        "df1_even = df1.iloc[::2]\n",
        "\n",
        "df2 = pd.read_csv('/content/drive/My Drive/MSC_project/NS_2.csv')\n",
        "df2 = df2.iloc[:,5:]\n",
        "df2_odd = df2.iloc[1::2]\n",
        "df2_even = df2.iloc[::2]\n",
        "\n",
        "df3 = pd.read_csv('/content/drive/My Drive/MSC_project/NS_3.csv')\n",
        "df3 = df3.iloc[:,5:]\n",
        "df3_odd = df3.iloc[1::2]\n",
        "df3_even = df3.iloc[::2]\n",
        "\n",
        "df4 = pd.read_csv('/content/drive/My Drive/MSC_project/NS_4.csv')\n",
        "df4 = df4.iloc[:,5:]\n",
        "df4_odd = df4.iloc[1::2]\n",
        "df4_even = df4.iloc[::2]\n",
        "\n",
        "df5 = pd.read_csv('/content/drive/My Drive/MSC_project/NS_5.csv')\n",
        "df5 = df5.iloc[:,5:]\n",
        "df5_odd = df5.iloc[1::2]\n",
        "df5_even = df5.iloc[::2]"
      ],
      "metadata": {
        "id": "hKiZHUkO_9RJ"
      },
      "execution_count": 6,
      "outputs": []
    },
    {
      "cell_type": "code",
      "source": [
        "df6 = pd.read_csv('/content/drive/My Drive/MSC_project/S_1.csv')\n",
        "df6 = df6.iloc[:,5:]\n",
        "df6_odd = df6.iloc[1::2]\n",
        "df6_even = df6.iloc[::2]\n",
        "\n",
        "df7 = pd.read_csv('/content/drive/My Drive/MSC_project/S_2.csv')\n",
        "df7 = df7.iloc[:,5:]\n",
        "df7_odd = df7.iloc[1::2]\n",
        "df7_even = df7.iloc[::2]\n",
        "\n",
        "df8 = pd.read_csv('/content/drive/My Drive/MSC_project/S_3.csv')\n",
        "df8 = df8.iloc[:,5:]\n",
        "df8_odd = df8.iloc[1::2]\n",
        "df8_even = df8.iloc[::2]\n",
        "\n",
        "df9 = pd.read_csv('/content/drive/My Drive/MSC_project/S_4.csv')\n",
        "df9 = df9.iloc[:,5:]\n",
        "df9_odd = df9.iloc[1::2]\n",
        "df9_even = df9.iloc[::2]\n",
        "\n",
        "df10 = pd.read_csv('/content/drive/My Drive/MSC_project/S_5.csv')\n",
        "df10 = df10.iloc[:,5:]\n",
        "df10_odd = df10.iloc[1::2]\n",
        "df10_even = df10.iloc[::2]\n"
      ],
      "metadata": {
        "id": "i9Hr6Lp2AaEK"
      },
      "execution_count": 7,
      "outputs": []
    },
    {
      "cell_type": "code",
      "source": [
        "df11 = pd.read_csv('/content/drive/My Drive/MSC_project/2NS_1.csv')\n",
        "df11 = df11.iloc[:,5:]\n",
        "df11_odd = df11.iloc[1::2]\n",
        "df11_even = df11.iloc[::2]\n",
        "\n",
        "df12 = pd.read_csv('/content/drive/My Drive/MSC_project/2NS_2.csv')\n",
        "df12 = df12.iloc[:,5:]\n",
        "df12_odd = df12.iloc[1::2]\n",
        "df12_even = df12.iloc[::2]\n",
        "\n",
        "df13 = pd.read_csv('/content/drive/My Drive/MSC_project/2NS_3.csv')\n",
        "df13 = df13.iloc[:,5:]\n",
        "df13_odd = df13.iloc[1::2]\n",
        "df13_even = df13.iloc[::2]\n",
        "\n",
        "df14 = pd.read_csv('/content/drive/My Drive/MSC_project/2NS_4.csv')\n",
        "df14 = df14.iloc[:,5:]\n",
        "df14_odd = df14.iloc[1::2]\n",
        "df14_even = df14.iloc[::2]\n",
        "\n",
        "df15 = pd.read_csv('/content/drive/My Drive/MSC_project/2NS_5.csv')\n",
        "df15 = df15.iloc[:,5:]\n",
        "df15_odd = df15.iloc[1::2]\n",
        "df15_even = df15.iloc[::2]\n"
      ],
      "metadata": {
        "id": "NP90xHacAr_P"
      },
      "execution_count": 8,
      "outputs": []
    },
    {
      "cell_type": "code",
      "source": [
        "df16 = pd.read_csv('/content/drive/My Drive/MSC_project/2S_1.csv')\n",
        "df16 = df16.iloc[:,5:]\n",
        "df16_odd = df16.iloc[1::2]\n",
        "df16_even = df16.iloc[::2]\n",
        "\n",
        "df17 = pd.read_csv('/content/drive/My Drive/MSC_project/2S_2.csv')\n",
        "df17 = df17.iloc[:,5:]\n",
        "df17_odd = df17.iloc[1::2]\n",
        "df17_even = df17.iloc[::2]\n",
        "\n",
        "df18 = pd.read_csv('/content/drive/My Drive/MSC_project/2S_3.csv')\n",
        "df18 = df18.iloc[:,5:]\n",
        "df18_odd = df18.iloc[1::2]\n",
        "df18_even = df18.iloc[::2]\n",
        "\n",
        "df19 = pd.read_csv('/content/drive/My Drive/MSC_project/2S_4.csv')\n",
        "df19 = df19.iloc[:,5:]\n",
        "df19_odd = df19.iloc[1::2]\n",
        "df19_even = df19.iloc[::2]\n",
        "\n",
        "df20 = pd.read_csv('/content/drive/My Drive/MSC_project/2S_5.csv')\n",
        "df20 = df20.iloc[:,5:]\n",
        "df20_odd = df20.iloc[1::2]\n",
        "df20_even = df20.iloc[::2]"
      ],
      "metadata": {
        "id": "e04GE3Y6A1Vc"
      },
      "execution_count": 9,
      "outputs": []
    },
    {
      "cell_type": "code",
      "source": [
        "df21 = pd.read_csv('/content/drive/My Drive/MSC_project/3NS_1.csv')\n",
        "df21 = df21.iloc[:,5:]\n",
        "df21_odd = df21.iloc[1::2]\n",
        "df21_even = df21.iloc[::2]\n",
        "\n",
        "df22 = pd.read_csv('/content/drive/My Drive/MSC_project/3NS_2.csv')\n",
        "df22 = df22.iloc[:,5:]\n",
        "df22_odd = df22.iloc[1::2]\n",
        "df22_even = df22.iloc[::2]\n",
        "\n",
        "df23 = pd.read_csv('/content/drive/My Drive/MSC_project/3NS_3.csv')\n",
        "df23 = df23.iloc[:,5:]\n",
        "df23_odd = df23.iloc[1::2]\n",
        "df23_even = df23.iloc[::2]\n",
        "\n",
        "df24 = pd.read_csv('/content/drive/My Drive/MSC_project/3NS_4.csv')\n",
        "df24 = df24.iloc[:,5:]\n",
        "df24_odd = df24.iloc[1::2]\n",
        "df24_even = df24.iloc[::2]\n",
        "\n",
        "df25 = pd.read_csv('/content/drive/My Drive/MSC_project/3NS_5.csv')\n",
        "df25 = df25.iloc[:,5:]\n",
        "df25_odd = df25.iloc[1::2]\n",
        "df25_even = df25.iloc[::2]"
      ],
      "metadata": {
        "id": "eRpp9yyEBDqB"
      },
      "execution_count": 11,
      "outputs": []
    },
    {
      "cell_type": "code",
      "source": [
        "df26 = pd.read_csv('/content/drive/My Drive/MSC_project/3S_1.csv')\n",
        "df26 = df26.iloc[:,5:]\n",
        "df26_odd = df26.iloc[1::2]\n",
        "df26_even = df26.iloc[::2]\n",
        "\n",
        "df27 = pd.read_csv('/content/drive/My Drive/MSC_project/3S_2.csv')\n",
        "df27 = df27.iloc[:,5:]\n",
        "df27_odd = df27.iloc[1::2]\n",
        "df27_even = df27.iloc[::2]\n",
        "\n",
        "df28 = pd.read_csv('/content/drive/My Drive/MSC_project/3S_3.csv')\n",
        "df28 = df28.iloc[:,5:]\n",
        "df28_odd = df28.iloc[1::2]\n",
        "df28_even = df28.iloc[::2]\n",
        "\n",
        "df29 = pd.read_csv('/content/drive/My Drive/MSC_project/3S_4.csv')\n",
        "df29 = df29.iloc[:,5:]\n",
        "df29_odd = df29.iloc[1::2]\n",
        "df29_even = df29.iloc[::2]\n",
        "\n",
        "df30 = pd.read_csv('/content/drive/My Drive/MSC_project/3S_5.csv')\n",
        "df30 = df30.iloc[:,5:]\n",
        "df30_odd = df30.iloc[1::2]\n",
        "df30_even = df30.iloc[::2]"
      ],
      "metadata": {
        "id": "ZPirs221BYvy"
      },
      "execution_count": 12,
      "outputs": []
    },
    {
      "cell_type": "code",
      "source": [
        "df31 = pd.read_csv('/content/drive/My Drive/MSC_project/4NS_1.csv')\n",
        "df31 = df31.iloc[:,5:]\n",
        "df31_odd = df31.iloc[1::2]\n",
        "df31_even = df31.iloc[::2]\n",
        "\n",
        "df32 = pd.read_csv('/content/drive/My Drive/MSC_project/4NS_2.csv')\n",
        "df32 = df32.iloc[:,5:]\n",
        "df32_odd = df32.iloc[1::2]\n",
        "df32_even = df32.iloc[::2]\n",
        "\n",
        "df33 = pd.read_csv('/content/drive/My Drive/MSC_project/4NS_3.csv')\n",
        "df33 = df33.iloc[:,5:]\n",
        "df33_odd = df33.iloc[1::2]\n",
        "df33_even = df33.iloc[::2]\n",
        "\n",
        "df34 = pd.read_csv('/content/drive/My Drive/MSC_project/4NS_4.csv')\n",
        "df34 = df34.iloc[:,5:]\n",
        "df34_odd = df34.iloc[1::2]\n",
        "df34_even = df34.iloc[::2]\n",
        "\n",
        "df35 = pd.read_csv('/content/drive/My Drive/MSC_project/4NS_5.csv')\n",
        "df35 = df35.iloc[:,5:]\n",
        "df35_odd = df35.iloc[1::2]\n",
        "df35_even = df35.iloc[::2]"
      ],
      "metadata": {
        "id": "zW07fACPBkoD"
      },
      "execution_count": 13,
      "outputs": []
    },
    {
      "cell_type": "code",
      "source": [
        "df36 = pd.read_csv('/content/drive/My Drive/MSC_project/4S_1.csv')\n",
        "df36 = df36.iloc[:,5:]\n",
        "df36_odd = df36.iloc[1::2]\n",
        "df36_even = df36.iloc[::2]\n",
        "\n",
        "df37 = pd.read_csv('/content/drive/My Drive/MSC_project/4S_2.csv')\n",
        "df37 = df37.iloc[:,5:]\n",
        "df37_odd = df37.iloc[1::2]\n",
        "df37_even = df37.iloc[::2]\n",
        "\n",
        "df38 = pd.read_csv('/content/drive/My Drive/MSC_project/4S_3.csv')\n",
        "df38 = df38.iloc[:,5:]\n",
        "df38_odd = df38.iloc[1::2]\n",
        "df38_even = df38.iloc[::2]\n",
        "\n",
        "df39 = pd.read_csv('/content/drive/My Drive/MSC_project/4S_4.csv')\n",
        "df39 = df39.iloc[:,5:]\n",
        "df39_odd = df39.iloc[1::2]\n",
        "df39_even = df39.iloc[::2]\n",
        "\n",
        "df40 = pd.read_csv('/content/drive/My Drive/MSC_project/4S_5.csv')\n",
        "df40 = df40.iloc[:,5:]\n",
        "df40_odd = df40.iloc[1::2]\n",
        "df40_even = df40.iloc[::2]"
      ],
      "metadata": {
        "id": "TCUsAolFB4tq"
      },
      "execution_count": 14,
      "outputs": []
    },
    {
      "cell_type": "code",
      "source": [
        "df41 = pd.read_csv('/content/drive/My Drive/MSC_project/5NS_1.csv')\n",
        "df41 = df41.iloc[:,5:]\n",
        "df41_odd = df41.iloc[1::2]\n",
        "df41_even = df41.iloc[::2]\n",
        "\n",
        "df42 = pd.read_csv('/content/drive/My Drive/MSC_project/5NS_2.csv')\n",
        "df42 = df42.iloc[:,5:]\n",
        "df42_odd = df42.iloc[1::2]\n",
        "df42_even = df42.iloc[::2]\n",
        "\n",
        "df43 = pd.read_csv('/content/drive/My Drive/MSC_project/5NS_3.csv')\n",
        "df43 = df43.iloc[:,5:]\n",
        "df43_odd = df43.iloc[1::2]\n",
        "df43_even = df43.iloc[::2]\n",
        "\n",
        "df44 = pd.read_csv('/content/drive/My Drive/MSC_project/5NS_4.csv')\n",
        "df44 = df44.iloc[:,5:]\n",
        "df44_odd = df44.iloc[1::2]\n",
        "df44_even = df44.iloc[::2]\n",
        "\n",
        "df45 = pd.read_csv('/content/drive/My Drive/MSC_project/5NS_5.csv')\n",
        "df45 = df45.iloc[:,5:]\n",
        "df45_odd = df45.iloc[1::2]\n",
        "df45_even = df45.iloc[::2]"
      ],
      "metadata": {
        "id": "DVWEM2qeCBRf"
      },
      "execution_count": 15,
      "outputs": []
    },
    {
      "cell_type": "code",
      "source": [
        "df46 = pd.read_csv('/content/drive/My Drive/MSC_project/5S_1.csv')\n",
        "df46 = df46.iloc[:,5:]\n",
        "df46_odd = df46.iloc[1::2]\n",
        "df46_even = df46.iloc[::2]\n",
        "\n",
        "df47 = pd.read_csv('/content/drive/My Drive/MSC_project/5S_2.csv')\n",
        "df47 = df47.iloc[:,5:]\n",
        "df47_odd = df47.iloc[1::2]\n",
        "df47_even = df47.iloc[::2]\n",
        "\n",
        "df48 = pd.read_csv('/content/drive/My Drive/MSC_project/5S_3.csv')\n",
        "df48 = df48.iloc[:,5:]\n",
        "df48_odd = df48.iloc[1::2]\n",
        "df48_even = df48.iloc[::2]\n",
        "\n",
        "df49 = pd.read_csv('/content/drive/My Drive/MSC_project/5S_4.csv')\n",
        "df49 = df49.iloc[:,5:]\n",
        "df49_odd = df49.iloc[1::2]\n",
        "df49_even = df49.iloc[::2]\n",
        "\n",
        "df50 = pd.read_csv('/content/drive/My Drive/MSC_project/5S_5.csv')\n",
        "df50 = df50.iloc[:,5:]\n",
        "df50_odd = df50.iloc[1::2]\n",
        "df50_even = df50.iloc[::2]"
      ],
      "metadata": {
        "id": "mHz-6ioICMOW"
      },
      "execution_count": 16,
      "outputs": []
    },
    {
      "cell_type": "code",
      "source": [
        "dfss_odd = [df1_odd, df2_odd, df3_odd, df4_odd, df5_odd, df6_odd, df7_odd, df8_odd, df9_odd, df10_odd,\n",
        "       df11_odd, df12_odd, df13_odd, df14_odd, df15_odd, df16_odd, df17_odd, df18_odd, df19_odd, df20_odd,\n",
        "       df21_odd, df22_odd, df23_odd, df24_odd, df25_odd, df26_odd, df27_odd, df28_odd, df29_odd, df30_odd,\n",
        "       df31_odd, df32_odd, df33_odd, df34_odd, df35_odd, df36_odd, df37_odd, df38_odd, df39_odd, df40_odd,\n",
        "       df41_odd, df42_odd, df43_odd, df44_odd, df45_odd, df46_odd, df47_odd, df48_odd, df49_odd, df50_odd]\n",
        "dfss_even = [\n",
        "    df1_even, df2_even, df3_even, df4_even, df5_even, df6_even, df7_even, df8_even, df9_even, df10_even,\n",
        "    df11_even, df12_even, df13_even, df14_even, df15_even, df16_even, df17_even, df18_even, df19_even, df20_even,\n",
        "    df21_even, df22_even, df23_even, df24_even, df25_even, df26_even, df27_even, df28_even, df29_even, df30_even,\n",
        "    df31_even, df32_even, df33_even, df34_even, df35_even, df36_even, df37_even, df38_even, df39_even, df40_even,\n",
        "    df41_even, df42_even, df43_even, df44_even, df45_even, df46_even, df47_even, df48_even, df49_even, df50_even\n",
        "]\n"
      ],
      "metadata": {
        "id": "RbCbdxcNCajA"
      },
      "execution_count": 18,
      "outputs": []
    }
  ]
}